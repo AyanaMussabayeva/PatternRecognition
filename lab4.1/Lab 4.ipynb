{
 "cells": [
  {
   "cell_type": "code",
   "execution_count": 44,
   "metadata": {},
   "outputs": [
    {
     "data": {
      "text/html": [
       "<div>\n",
       "<style>\n",
       "    .dataframe thead tr:only-child th {\n",
       "        text-align: right;\n",
       "    }\n",
       "\n",
       "    .dataframe thead th {\n",
       "        text-align: left;\n",
       "    }\n",
       "\n",
       "    .dataframe tbody tr th {\n",
       "        vertical-align: top;\n",
       "    }\n",
       "</style>\n",
       "<table border=\"1\" class=\"dataframe\">\n",
       "  <thead>\n",
       "    <tr style=\"text-align: right;\">\n",
       "      <th></th>\n",
       "      <th>bad wizards</th>\n",
       "      <th>magic force</th>\n",
       "      <th>phys force</th>\n",
       "      <th>magic stable</th>\n",
       "      <th>phys stable</th>\n",
       "      <th>price</th>\n",
       "      <th>number</th>\n",
       "    </tr>\n",
       "  </thead>\n",
       "  <tbody>\n",
       "    <tr>\n",
       "      <th>0</th>\n",
       "      <td>skeletons</td>\n",
       "      <td>0.0</td>\n",
       "      <td>0.2</td>\n",
       "      <td>0.7</td>\n",
       "      <td>0.8</td>\n",
       "      <td>85</td>\n",
       "      <td>8</td>\n",
       "    </tr>\n",
       "    <tr>\n",
       "      <th>1</th>\n",
       "      <td>zombie</td>\n",
       "      <td>0.0</td>\n",
       "      <td>0.3</td>\n",
       "      <td>0.7</td>\n",
       "      <td>0.5</td>\n",
       "      <td>90</td>\n",
       "      <td>5</td>\n",
       "    </tr>\n",
       "    <tr>\n",
       "      <th>2</th>\n",
       "      <td>vamps</td>\n",
       "      <td>0.5</td>\n",
       "      <td>0.5</td>\n",
       "      <td>0.5</td>\n",
       "      <td>0.5</td>\n",
       "      <td>200</td>\n",
       "      <td>3</td>\n",
       "    </tr>\n",
       "    <tr>\n",
       "      <th>3</th>\n",
       "      <td>witches</td>\n",
       "      <td>0.7</td>\n",
       "      <td>0.4</td>\n",
       "      <td>0.4</td>\n",
       "      <td>0.6</td>\n",
       "      <td>290</td>\n",
       "      <td>2</td>\n",
       "    </tr>\n",
       "    <tr>\n",
       "      <th>4</th>\n",
       "      <td>dragonbone</td>\n",
       "      <td>0.7</td>\n",
       "      <td>0.7</td>\n",
       "      <td>0.3</td>\n",
       "      <td>0.3</td>\n",
       "      <td>490</td>\n",
       "      <td>1</td>\n",
       "    </tr>\n",
       "  </tbody>\n",
       "</table>\n",
       "</div>"
      ],
      "text/plain": [
       "  bad wizards  magic force  phys force  magic stable  phys stable  price  \\\n",
       "0   skeletons          0.0         0.2           0.7          0.8     85   \n",
       "1      zombie          0.0         0.3           0.7          0.5     90   \n",
       "2       vamps          0.5         0.5           0.5          0.5    200   \n",
       "3     witches          0.7         0.4           0.4          0.6    290   \n",
       "4  dragonbone          0.7         0.7           0.3          0.3    490   \n",
       "\n",
       "   number  \n",
       "0       8  \n",
       "1       5  \n",
       "2       3  \n",
       "3       2  \n",
       "4       1  "
      ]
     },
     "execution_count": 44,
     "metadata": {},
     "output_type": "execute_result"
    }
   ],
   "source": [
    "import pandas as pd\n",
    "import numpy as np\n",
    "import matplotlib.pyplot as plt\n",
    "from datetime import datetime\n",
    "\n",
    "bad = pd.read_csv('darkwizards.csv')\n",
    "bad[:5]\n",
    "#print(bad.values)\n",
    "\n"
   ]
  },
  {
   "cell_type": "code",
   "execution_count": 43,
   "metadata": {},
   "outputs": [
    {
     "data": {
      "text/html": [
       "<div>\n",
       "<style>\n",
       "    .dataframe thead tr:only-child th {\n",
       "        text-align: right;\n",
       "    }\n",
       "\n",
       "    .dataframe thead th {\n",
       "        text-align: left;\n",
       "    }\n",
       "\n",
       "    .dataframe tbody tr th {\n",
       "        vertical-align: top;\n",
       "    }\n",
       "</style>\n",
       "<table border=\"1\" class=\"dataframe\">\n",
       "  <thead>\n",
       "    <tr style=\"text-align: right;\">\n",
       "      <th></th>\n",
       "      <th>wizards</th>\n",
       "      <th>magic force</th>\n",
       "      <th>phys force</th>\n",
       "      <th>magic stable</th>\n",
       "      <th>phys stable</th>\n",
       "      <th>price</th>\n",
       "      <th>number</th>\n",
       "    </tr>\n",
       "  </thead>\n",
       "  <tbody>\n",
       "    <tr>\n",
       "      <th>0</th>\n",
       "      <td>village guys</td>\n",
       "      <td>0.0</td>\n",
       "      <td>0.30</td>\n",
       "      <td>0.8</td>\n",
       "      <td>0.8</td>\n",
       "      <td>90</td>\n",
       "      <td>NaN</td>\n",
       "    </tr>\n",
       "    <tr>\n",
       "      <th>1</th>\n",
       "      <td>elves</td>\n",
       "      <td>0.3</td>\n",
       "      <td>0.10</td>\n",
       "      <td>0.6</td>\n",
       "      <td>0.8</td>\n",
       "      <td>100</td>\n",
       "      <td>NaN</td>\n",
       "    </tr>\n",
       "    <tr>\n",
       "      <th>2</th>\n",
       "      <td>knight</td>\n",
       "      <td>0.3</td>\n",
       "      <td>0.65</td>\n",
       "      <td>0.5</td>\n",
       "      <td>0.5</td>\n",
       "      <td>199</td>\n",
       "      <td>NaN</td>\n",
       "    </tr>\n",
       "    <tr>\n",
       "      <th>3</th>\n",
       "      <td>pixies</td>\n",
       "      <td>0.7</td>\n",
       "      <td>0.30</td>\n",
       "      <td>0.4</td>\n",
       "      <td>0.6</td>\n",
       "      <td>200</td>\n",
       "      <td>NaN</td>\n",
       "    </tr>\n",
       "    <tr>\n",
       "      <th>4</th>\n",
       "      <td>titans</td>\n",
       "      <td>0.0</td>\n",
       "      <td>0.80</td>\n",
       "      <td>0.3</td>\n",
       "      <td>0.2</td>\n",
       "      <td>390</td>\n",
       "      <td>NaN</td>\n",
       "    </tr>\n",
       "  </tbody>\n",
       "</table>\n",
       "</div>"
      ],
      "text/plain": [
       "        wizards  magic force  phys force  magic stable  phys stable  price  \\\n",
       "0  village guys          0.0        0.30           0.8          0.8     90   \n",
       "1         elves          0.3        0.10           0.6          0.8    100   \n",
       "2        knight          0.3        0.65           0.5          0.5    199   \n",
       "3        pixies          0.7        0.30           0.4          0.6    200   \n",
       "4        titans          0.0        0.80           0.3          0.2    390   \n",
       "\n",
       "   number  \n",
       "0     NaN  \n",
       "1     NaN  \n",
       "2     NaN  \n",
       "3     NaN  \n",
       "4     NaN  "
      ]
     },
     "execution_count": 43,
     "metadata": {},
     "output_type": "execute_result"
    }
   ],
   "source": [
    "import pandas as pd\n",
    "import numpy as np\n",
    "import matplotlib.pyplot as plt\n",
    "from datetime import datetime\n",
    "good = pd.read_csv('wizards.csv')\n",
    "good[:5]\n",
    "\n",
    "\n"
   ]
  },
  {
   "cell_type": "code",
   "execution_count": 78,
   "metadata": {},
   "outputs": [
    {
     "name": "stdout",
     "output_type": "stream",
     "text": [
      "в идеале моя армия должна быть такой, чтобы, сила магии была больше чем:\n",
      "0.29473684210526313\n",
      "в идеале моя армия должна быть такой, чтобы, физическая сила была больше чем:\n",
      "0.3368421052631579\n"
     ]
    }
   ],
   "source": [
    "import pandas as pd\n",
    "import numpy as np\n",
    "import matplotlib.pyplot as plt\n",
    "from datetime import datetime\n",
    "\n",
    "maxPhysBad = 0\n",
    "maxMagicBad = 0\n",
    "for i in range(5):    \n",
    "    if maxMagicBad < bad.values[i][3] * bad.values[i][6] /19:\n",
    "        maxMagicBad = bad.values[i][3] * bad.values[i][6] / 19\n",
    "    if maxPhysBad < bad.values[i][4]*bad.values[i][6] / 19:\n",
    "        maxPhysBad =  bad.values[i][4]*bad.values[i][6] / 19\n",
    "        \n",
    "print('в идеале моя армия должна быть такой, чтобы, сила магии была больше чем:')        \n",
    "print(maxMagicBad)\n",
    "print('в идеале моя армия должна быть такой, чтобы, физическая сила была больше чем:') \n",
    "print(maxPhysBad)\n",
    "\n",
    "\n",
    "\n",
    "\n"
   ]
  },
  {
   "cell_type": "code",
   "execution_count": 79,
   "metadata": {},
   "outputs": [
    {
     "name": "stdout",
     "output_type": "stream",
     "text": [
      "в идеале средняя устойчивость моей армии к магии должна быть больше чем:\n",
      "0.07894736842105263\n",
      "в идеале средняя устойчивость моей армии к физической силе должна быть больше чем:\n",
      "0.08421052631578947\n"
     ]
    }
   ],
   "source": [
    "\n",
    "import pandas as pd\n",
    "import numpy as np\n",
    "import matplotlib.pyplot as plt\n",
    "from datetime import datetime\n",
    "\n",
    "maxPhysBadForce = 0\n",
    "maxMagicBadForce = 0\n",
    "for i in range(5):    \n",
    "    if maxMagicBadForce < bad.values[i][1] * bad.values[i][6] / 19:\n",
    "        maxMagicBadForce = bad.values[i][1] * bad.values[i][6] / 19\n",
    "    if maxPhysBadForce < bad.values[i][2]*bad.values[i][6] / 19:\n",
    "        maxPhysBadForce =  bad.values[i][2]*bad.values[i][6] / 19\n",
    "        \n",
    "print('в идеале средняя устойчивость моей армии к магии должна быть больше чем:')        \n",
    "print(maxMagicBadForce)\n",
    "print('в идеале средняя устойчивость моей армии к физической силе должна быть больше чем:') \n",
    "print(maxPhysBadForce)"
   ]
  },
  {
   "cell_type": "code",
   "execution_count": 105,
   "metadata": {},
   "outputs": [
    {
     "ename": "SyntaxError",
     "evalue": "invalid syntax (<ipython-input-105-8b910c0395d2>, line 6)",
     "output_type": "error",
     "traceback": [
      "\u001b[0;36m  File \u001b[0;32m\"<ipython-input-105-8b910c0395d2>\"\u001b[0;36m, line \u001b[0;32m6\u001b[0m\n\u001b[0;31m    relation = pd.DataFrame({'skeletone':[0,0,0,0,0], 'zombie':[0,0,0,0,0], 'vamp':[0,0,0,0,0], 'witch'=[0,0,0,0,0], 'dragonbone'=[0,0,0,0,0]}, index= ['village guy', 'elf', 'knight', 'pixie', 'titan'])\u001b[0m\n\u001b[0m                                                                                                       ^\u001b[0m\n\u001b[0;31mSyntaxError\u001b[0m\u001b[0;31m:\u001b[0m invalid syntax\n"
     ]
    }
   ],
   "source": [
    "import pandas as pd\n",
    "import numpy as np\n",
    "import matplotlib.pyplot as plt\n",
    "from datetime import datetime\n",
    "maxi = []\n",
    "relation = pd.DataFrame({'skeletone':[0,0,0,0,0], 'zombie':[0,0,0,0,0], 'vamp':[0,0,0,0,0], 'witch'=[0,0,0,0,0], 'dragonbone'=[0,0,0,0,0]}, index= ['village guy', 'elf', 'knight', 'pixie', 'titan'])\n",
    "relation[:5]\n",
    "\n",
    "        \n"
   ]
  },
  {
   "cell_type": "code",
   "execution_count": 106,
   "metadata": {},
   "outputs": [
    {
     "ename": "SyntaxError",
     "evalue": "invalid syntax (<ipython-input-106-1f68836abcca>, line 1)",
     "output_type": "error",
     "traceback": [
      "\u001b[0;36m  File \u001b[0;32m\"<ipython-input-106-1f68836abcca>\"\u001b[0;36m, line \u001b[0;32m1\u001b[0m\n\u001b[0;31m    r = [][]\u001b[0m\n\u001b[0m           ^\u001b[0m\n\u001b[0;31mSyntaxError\u001b[0m\u001b[0;31m:\u001b[0m invalid syntax\n"
     ]
    }
   ],
   "source": [
    "r = [][]\n",
    "for i in range(5):\n",
    "    for j in range(5):\n",
    "        print(bad.values[i][0] +\" vs. \" + good.values[j][0])\n",
    "        print(max(float(bad.values[i][1]) * float(good.values[j][1]), float(bad.values[i][2]) * float(good.values[j][2])))\n",
    "        #if float(bad.values[i][1]) * float(good.values[j][1]) >  float(bad.values[i][2]) * float(good.values[j][2]):\n",
    "        maxi.append(max(float(bad.values[i][1]) * float(good.values[j][1]), float(bad.values[i][2]) * float(good.values[j][2])))\n",
    "        r[i][j].append(max(float(bad.values[i][1]) * float(good.values[j][1]), float(bad.values[i][2]) * float(good.values[j][2])))\n",
    "        print('_____')\n",
    "      \n",
    "    \n",
    "    print('##########')\n",
    "print(maxi)\n"
   ]
  },
  {
   "cell_type": "code",
   "execution_count": null,
   "metadata": {
    "collapsed": true
   },
   "outputs": [],
   "source": []
  }
 ],
 "metadata": {
  "kernelspec": {
   "display_name": "Python 3",
   "language": "python",
   "name": "python3"
  },
  "language_info": {
   "codemirror_mode": {
    "name": "ipython",
    "version": 3
   },
   "file_extension": ".py",
   "mimetype": "text/x-python",
   "name": "python",
   "nbconvert_exporter": "python",
   "pygments_lexer": "ipython3",
   "version": "3.6.3"
  }
 },
 "nbformat": 4,
 "nbformat_minor": 2
}
